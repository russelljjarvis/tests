{
 "cells": [
  {
   "cell_type": "code",
   "execution_count": 1,
   "metadata": {},
   "outputs": [],
   "source": [
    "%matplotlib inline\n",
    "\n",
    "import os\n",
    "\n",
    "import numpy as np\n",
    "import matplotlib.pyplot as plt\n",
    "import matplotlib as mpl\n",
    "import pandas as pd\n",
    "\n",
    "import sciunit\n",
    "from owtests import OW_HOME\n",
    "import wcon\n",
    "import open_worm_analysis_toolbox as owat"
   ]
  },
  {
   "cell_type": "code",
   "execution_count": 2,
   "metadata": {},
   "outputs": [],
   "source": [
    "OWAT_TESTS = os.path.join(OW_HOME,'tests','owtests','open-worm-analysis-toolbox')\n",
    "mpl.rcParams.update({'font.size':16})"
   ]
  },
  {
   "cell_type": "markdown",
   "metadata": {},
   "source": [
    "### Compute features from a Schafer-style data file"
   ]
  },
  {
   "cell_type": "code",
   "execution_count": 3,
   "metadata": {},
   "outputs": [],
   "source": [
    "def get_schafer_features(file):\n",
    "    # Load a \"basic\" worm from a file\n",
    "    path = os.path.join(OW_HOME,'open-worm-analysis-toolbox','example_data',file)\n",
    "    bw = owat.BasicWorm.from_schafer_file_factory(path)\n",
    "    # Normalize the basic worm\n",
    "    nw = owat.NormalizedWorm.from_BasicWorm_factory(bw)\n",
    "    # Compute the features\n",
    "    wf_experiment_schafer = owat.WormFeatures(nw)\n",
    "    return wf_experiment_schafer"
   ]
  },
  {
   "cell_type": "code",
   "execution_count": 4,
   "metadata": {},
   "outputs": [
    {
     "name": "stderr",
     "output_type": "stream",
     "text": [
      "/Users/rgerkin/Dropbox/miniconda3/lib/python3.5/site-packages/scipy/linalg/basic.py:1226: RuntimeWarning: internal gelsd driver lwork query error, required iwork dimension not returned. This is likely the result of LAPACK bug 0038, fixed in LAPACK 3.2.2 (released July 21, 2010). Falling back to 'gelss' driver.\n",
      "  warnings.warn(mesg, RuntimeWarning)\n"
     ]
    },
    {
     "name": "stdout",
     "output_type": "stream",
     "text": [
      "CPU times: user 47.7 s, sys: 656 ms, total: 48.3 s\n",
      "Wall time: 48.7 s\n"
     ]
    }
   ],
   "source": [
    "%time wf_experiment_schafer_1 = get_schafer_features('example_contour_and_skeleton_info.mat')"
   ]
  },
  {
   "cell_type": "code",
   "execution_count": 5,
   "metadata": {},
   "outputs": [],
   "source": [
    "# Doesn't work due to file structure issues\n",
    "#%time wf_experiment_schafer_2 = get_schafer_features('example_video_norm_worm.mat')"
   ]
  },
  {
   "cell_type": "markdown",
   "metadata": {},
   "source": [
    "### Compute features from a WCON-style data file"
   ]
  },
  {
   "cell_type": "code",
   "execution_count": 6,
   "metadata": {},
   "outputs": [],
   "source": [
    "# A function to convert the WCON skeleton data into the format required for owat.BasicWorm \n",
    "def basic_worm_from_wcon(wcon_data):\n",
    "    bw = owat.BasicWorm()\n",
    "    data = wcon_data.data\n",
    "    worm_name = data.columns.levels[0][0]\n",
    "    skeleton_data = [data[worm_name].iloc[frame].unstack().iloc[1:].values for frame in range(data.shape[0])]\n",
    "    bw._h_skeleton = skeleton_data\n",
    "    return bw"
   ]
  },
  {
   "cell_type": "code",
   "execution_count": 7,
   "metadata": {},
   "outputs": [],
   "source": [
    "def get_wcon_features(file):\n",
    "    path = os.path.join(OWAT_TESTS,file)\n",
    "    data = wcon.WCONWorms.load_from_file(path)\n",
    "    bw = basic_worm_from_wcon(data)\n",
    "    nw = owat.NormalizedWorm.from_BasicWorm_factory(bw)\n",
    "    wf = owat.WormFeatures(nw)\n",
    "    return wf"
   ]
  },
  {
   "cell_type": "code",
   "execution_count": 8,
   "metadata": {},
   "outputs": [],
   "source": [
    "# Doesn't work due to formatting issues\n",
    "#file = 'experiment/nca-1 (gk9) nca-2 (gk5) nRHO-1 QT309 on food L_2011_11_09__12_02___3___6.wcon'\n",
    "#%time wf_experiment_wcon = get_wcon_features(file)"
   ]
  },
  {
   "cell_type": "code",
   "execution_count": 9,
   "metadata": {},
   "outputs": [
    {
     "name": "stdout",
     "output_type": "stream",
     "text": [
      "Loading file: /Users/rgerkin/Dropbox/dev/openworm/tests/owtests/open-worm-analysis-toolbox/model/worm_motion_log.wcon\n"
     ]
    },
    {
     "name": "stderr",
     "output_type": "stream",
     "text": [
      "/Users/rgerkin/Dropbox (ASU)/dev/openworm/open-worm-analysis-toolbox/open_worm_analysis_toolbox/features/worm_features.py:815: UserWarning: morphology.width.head was NOT calculated. 'NormalizedWorm' object has no attribute 'widths'\n",
      "  warnings.warn(msg_warn)\n",
      "/Users/rgerkin/Dropbox (ASU)/dev/openworm/open-worm-analysis-toolbox/open_worm_analysis_toolbox/features/worm_features.py:815: UserWarning: morphology.width.midbody was NOT calculated. 'NormalizedWorm' object has no attribute 'widths'\n",
      "  warnings.warn(msg_warn)\n",
      "/Users/rgerkin/Dropbox (ASU)/dev/openworm/open-worm-analysis-toolbox/open_worm_analysis_toolbox/features/worm_features.py:815: UserWarning: morphology.width.tail was NOT calculated. 'NormalizedWorm' object has no attribute 'widths'\n",
      "  warnings.warn(msg_warn)\n",
      "/Users/rgerkin/Dropbox (ASU)/dev/openworm/open-worm-analysis-toolbox/open_worm_analysis_toolbox/features/worm_features.py:815: UserWarning: morphology.area was NOT calculated. 'NormalizedWorm' object has no attribute '_signed_area'\n",
      "  warnings.warn(msg_warn)\n",
      "/Users/rgerkin/Dropbox (ASU)/dev/openworm/open-worm-analysis-toolbox/open_worm_analysis_toolbox/features/worm_features.py:815: UserWarning: morphology.area_per_length was NOT calculated. 'NormalizedWorm' object has no attribute '_signed_area'\n",
      "  warnings.warn(msg_warn)\n",
      "/Users/rgerkin/Dropbox (ASU)/dev/openworm/open-worm-analysis-toolbox/open_worm_analysis_toolbox/features/worm_features.py:815: UserWarning: morphology.width_per_length was NOT calculated. 'NormalizedWorm' object has no attribute 'widths'\n",
      "  warnings.warn(msg_warn)\n",
      "/Users/rgerkin/Dropbox (ASU)/dev/openworm/open-worm-analysis-toolbox/open_worm_analysis_toolbox/features/worm_features.py:815: UserWarning: path.range was NOT calculated. 'NoneType' object is not subscriptable\n",
      "  warnings.warn(msg_warn)\n",
      "/Users/rgerkin/Dropbox (ASU)/dev/openworm/open-worm-analysis-toolbox/open_worm_analysis_toolbox/features/worm_features.py:815: UserWarning: path.duration was NOT calculated. 'NormalizedWorm' object has no attribute 'widths'\n",
      "  warnings.warn(msg_warn)\n",
      "/Users/rgerkin/Dropbox (ASU)/dev/openworm/open-worm-analysis-toolbox/open_worm_analysis_toolbox/features/worm_features.py:815: UserWarning: path.duration.worm was NOT calculated. 'NormalizedWorm' object has no attribute 'widths'\n",
      "  warnings.warn(msg_warn)\n",
      "/Users/rgerkin/Dropbox (ASU)/dev/openworm/open-worm-analysis-toolbox/open_worm_analysis_toolbox/features/worm_features.py:815: UserWarning: path.duration.head was NOT calculated. 'NormalizedWorm' object has no attribute 'widths'\n",
      "  warnings.warn(msg_warn)\n",
      "/Users/rgerkin/Dropbox (ASU)/dev/openworm/open-worm-analysis-toolbox/open_worm_analysis_toolbox/features/worm_features.py:815: UserWarning: path.duration.midbody was NOT calculated. 'NormalizedWorm' object has no attribute 'widths'\n",
      "  warnings.warn(msg_warn)\n",
      "/Users/rgerkin/Dropbox (ASU)/dev/openworm/open-worm-analysis-toolbox/open_worm_analysis_toolbox/features/worm_features.py:815: UserWarning: path.duration.tail was NOT calculated. 'NormalizedWorm' object has no attribute 'widths'\n",
      "  warnings.warn(msg_warn)\n",
      "/Users/rgerkin/Dropbox (ASU)/dev/openworm/open-worm-analysis-toolbox/open_worm_analysis_toolbox/features/worm_features.py:815: UserWarning: path.coordinates was NOT calculated. 'NoneType' object is not subscriptable\n",
      "  warnings.warn(msg_warn)\n"
     ]
    },
    {
     "name": "stdout",
     "output_type": "stream",
     "text": [
      "CPU times: user 3min 40s, sys: 1.94 s, total: 3min 42s\n",
      "Wall time: 3min 42s\n"
     ]
    }
   ],
   "source": [
    "file = 'model/worm_motion_log.wcon'\n",
    "%time wf_model_wcon = get_wcon_features(file)"
   ]
  },
  {
   "cell_type": "code",
   "execution_count": 12,
   "metadata": {},
   "outputs": [
    {
     "name": "stdout",
     "output_type": "stream",
     "text": [
      "48 valid features found for wcon_model\n",
      "81 valid features found for schafer_experiment\n"
     ]
    },
    {
     "data": {
      "text/html": [
       "<div>\n",
       "<style scoped>\n",
       "    .dataframe tbody tr th:only-of-type {\n",
       "        vertical-align: middle;\n",
       "    }\n",
       "\n",
       "    .dataframe tbody tr th {\n",
       "        vertical-align: top;\n",
       "    }\n",
       "\n",
       "    .dataframe thead th {\n",
       "        text-align: right;\n",
       "    }\n",
       "</style>\n",
       "<table border=\"1\" class=\"dataframe\">\n",
       "  <thead>\n",
       "    <tr style=\"text-align: right;\">\n",
       "      <th></th>\n",
       "      <th>wcon_model</th>\n",
       "      <th>wcon_experiment</th>\n",
       "      <th>schafer_experiment</th>\n",
       "    </tr>\n",
       "  </thead>\n",
       "  <tbody>\n",
       "    <tr>\n",
       "      <th>morphology.length</th>\n",
       "      <td>1.163448</td>\n",
       "      <td>NaN</td>\n",
       "      <td>966.907818</td>\n",
       "    </tr>\n",
       "    <tr>\n",
       "      <th>morphology.width.head</th>\n",
       "      <td>NaN</td>\n",
       "      <td>NaN</td>\n",
       "      <td>47.097449</td>\n",
       "    </tr>\n",
       "    <tr>\n",
       "      <th>morphology.width.midbody</th>\n",
       "      <td>NaN</td>\n",
       "      <td>NaN</td>\n",
       "      <td>85.879552</td>\n",
       "    </tr>\n",
       "    <tr>\n",
       "      <th>morphology.width.tail</th>\n",
       "      <td>NaN</td>\n",
       "      <td>NaN</td>\n",
       "      <td>47.009043</td>\n",
       "    </tr>\n",
       "    <tr>\n",
       "      <th>morphology.area</th>\n",
       "      <td>NaN</td>\n",
       "      <td>NaN</td>\n",
       "      <td>70229.892541</td>\n",
       "    </tr>\n",
       "  </tbody>\n",
       "</table>\n",
       "</div>"
      ],
      "text/plain": [
       "                          wcon_model  wcon_experiment  schafer_experiment\n",
       "morphology.length           1.163448              NaN          966.907818\n",
       "morphology.width.head            NaN              NaN           47.097449\n",
       "morphology.width.midbody         NaN              NaN           85.879552\n",
       "morphology.width.tail            NaN              NaN           47.009043\n",
       "morphology.area                  NaN              NaN        70229.892541"
      ]
     },
     "execution_count": 12,
     "metadata": {},
     "output_type": "execute_result"
    }
   ],
   "source": [
    "features = list(wf_experiment_schafer_1._features.keys())\n",
    "df = pd.DataFrame(index=features,columns=['wcon_model','wcon_experiment','schafer_experiment'])\n",
    "\n",
    "def fill_df(wf,df,column):\n",
    "    n_valid = 0\n",
    "    for feature,value in wf._features.items():\n",
    "        try:\n",
    "            result = pd.Series(value.value).mean()\n",
    "            if not np.isnan(result):\n",
    "                df.loc[feature,column] = result\n",
    "                #print(key,result)\n",
    "                n_valid += 1\n",
    "        except:\n",
    "            pass\n",
    "    print(\"%d valid features found for %s\" % (n_valid,column))\n",
    "    return df.astype('float')\n",
    "    \n",
    "df = fill_df(wf_model_wcon,df,'wcon_model')\n",
    "#df = fill_df(wf_experiment_wcon,df,'wcon_experiment')\n",
    "df = fill_df(wf_experiment_schafer_1,df,'schafer_experiment')\n",
    "df.head()"
   ]
  },
  {
   "cell_type": "code",
   "execution_count": 14,
   "metadata": {},
   "outputs": [
    {
     "name": "stdout",
     "output_type": "stream",
     "text": [
      "0.5047637256663084 0.7644687430799605\n"
     ]
    }
   ],
   "source": [
    "feature_name = 'posture.amplitude_ratio'\n",
    "model_mean = pd.Series(wf_model_wcon.get_features(feature_name).value).mean()\n",
    "experiment_mean = pd.Series(wf_experiment_schafer_1.get_features(feature_name).value).mean()\n",
    "print(model_mean,experiment_mean)"
   ]
  },
  {
   "cell_type": "code",
   "execution_count": 15,
   "metadata": {},
   "outputs": [
    {
     "data": {
      "text/plain": [
       "<matplotlib.axes._subplots.AxesSubplot at 0x1141aacc0>"
      ]
     },
     "execution_count": 15,
     "metadata": {},
     "output_type": "execute_result"
    },
    {
     "data": {
      "image/png": "[encoded data removed]",
      "text/plain": [
       "<matplotlib.figure.Figure at 0x1141aa550>"
      ]
     },
     "metadata": {},
     "output_type": "display_data"
    }
   ],
   "source": [
    "df.plot.scatter(x='schafer_experiment',y='wcon_model')"
   ]
  },
  {
   "cell_type": "code",
   "execution_count": 16,
   "metadata": {},
   "outputs": [
    {
     "data": {
      "text/plain": [
       "(-10, 10)"
      ]
     },
     "execution_count": 16,
     "metadata": {},
     "output_type": "execute_result"
    },
    {
     "data": {
      "image/png": "[encoded data removed]",
      "text/plain": [
       "<matplotlib.figure.Figure at 0x1186ae588>"
      ]
     },
     "metadata": {},
     "output_type": "display_data"
    }
   ],
   "source": [
    "df.plot.scatter(x='schafer_experiment',y='wcon_model')\n",
    "plt.xlim(-10,10)\n",
    "plt.ylim(-10,10)"
   ]
  }
 ],
 "metadata": {
  "kernelspec": {
   "display_name": "Python 3",
   "language": "python",
   "name": "python3"
  },
  "language_info": {
   "codemirror_mode": {
    "name": "ipython",
    "version": 3
   },
   "file_extension": ".py",
   "mimetype": "text/x-python",
   "name": "python",
   "nbconvert_exporter": "python",
   "pygments_lexer": "ipython3",
   "version": "3.5.2"
  }
 },
 "nbformat": 4,
 "nbformat_minor": 2
}
